{
  "nbformat": 4,
  "nbformat_minor": 0,
  "metadata": {
    "colab": {
      "provenance": []
    },
    "kernelspec": {
      "name": "python3",
      "display_name": "Python 3"
    },
    "language_info": {
      "name": "python"
    }
  },
  "cells": [
    {
      "cell_type": "markdown",
      "source": [
        "# **Step by step**"
      ],
      "metadata": {
        "id": "U6TDifTVAzbm"
      }
    },
    {
      "cell_type": "code",
      "execution_count": 1,
      "metadata": {
        "colab": {
          "base_uri": "https://localhost:8080/"
        },
        "id": "4n_2kHW4q9Gi",
        "outputId": "fcbeeb0c-26fd-4e95-b1cf-dd872d5082fa"
      },
      "outputs": [
        {
          "output_type": "stream",
          "name": "stdout",
          "text": [
            "Original DataFrame:\n",
            "    col\n",
            "0     a\n",
            "1     b\n",
            "2   NaN\n",
            "3     c\n",
            "4   NaN\n",
            "5   NaN\n",
            "6     a\n",
            "7     b\n",
            "8     c\n",
            "9   NaN\n",
            "10    a\n",
            "11  NaN\n",
            "12    b\n",
            "13    c\n",
            "14  NaN\n",
            "15  NaN\n"
          ]
        }
      ],
      "source": [
        "import pandas as pd\n",
        "import numpy as np\n",
        "\n",
        "# Sample DataFrame\n",
        "data = {'col': ['a', 'b', np.nan, 'c', np.nan, np.nan, 'a', 'b', 'c', np.nan, 'a', np.nan, 'b', 'c', np.nan, np.nan]}\n",
        "df = pd.DataFrame(data)\n",
        "\n",
        "# Display the original DataFrame\n",
        "print(\"Original DataFrame:\")\n",
        "print(df)"
      ]
    },
    {
      "cell_type": "code",
      "source": [
        "# Identify the non-null values and their frequencies\n",
        "non_na_values = df['col'].dropna().value_counts()\n",
        "total_na = df['col'].isna().sum()"
      ],
      "metadata": {
        "id": "k2dHPZokrCa_"
      },
      "execution_count": 2,
      "outputs": []
    },
    {
      "cell_type": "code",
      "source": [
        "non_na_values"
      ],
      "metadata": {
        "colab": {
          "base_uri": "https://localhost:8080/"
        },
        "id": "z4SngVVZrryv",
        "outputId": "4bcfb735-3793-410b-e99b-381667eb565a"
      },
      "execution_count": 3,
      "outputs": [
        {
          "output_type": "execute_result",
          "data": {
            "text/plain": [
              "col\n",
              "a    3\n",
              "b    3\n",
              "c    3\n",
              "Name: count, dtype: int64"
            ]
          },
          "metadata": {},
          "execution_count": 3
        }
      ]
    },
    {
      "cell_type": "code",
      "source": [
        "total_na"
      ],
      "metadata": {
        "colab": {
          "base_uri": "https://localhost:8080/"
        },
        "id": "nCr_O9xvrwfu",
        "outputId": "b5ff1712-2169-4e15-e239-4b8e3e9c4786"
      },
      "execution_count": 4,
      "outputs": [
        {
          "output_type": "execute_result",
          "data": {
            "text/plain": [
              "7"
            ]
          },
          "metadata": {},
          "execution_count": 4
        }
      ]
    },
    {
      "cell_type": "code",
      "source": [
        "# Calculate the proportional distribution\n",
        "distribution = []\n",
        "for value, count in non_na_values.items():\n",
        "    distribution.extend([value] * (total_na // len(non_na_values)))\n",
        "\n",
        "distribution"
      ],
      "metadata": {
        "colab": {
          "base_uri": "https://localhost:8080/"
        },
        "id": "attQJSt3r3_2",
        "outputId": "28c24d9d-a017-45fe-e309-72deb34aa3dd"
      },
      "execution_count": 5,
      "outputs": [
        {
          "output_type": "execute_result",
          "data": {
            "text/plain": [
              "['a', 'a', 'b', 'b', 'c', 'c']"
            ]
          },
          "metadata": {},
          "execution_count": 5
        }
      ]
    },
    {
      "cell_type": "code",
      "source": [
        "# Balance the remaining NaNs, if any\n",
        "remaining_na = total_na - len(distribution)\n",
        "for i in range(remaining_na):\n",
        "    distribution.append(non_na_values.index[i % len(non_na_values)])\n",
        "\n",
        "distribution"
      ],
      "metadata": {
        "colab": {
          "base_uri": "https://localhost:8080/"
        },
        "id": "JqO1VyNVtYMK",
        "outputId": "8ba784ce-263c-41d2-98ce-eb13f0347cb3"
      },
      "execution_count": 6,
      "outputs": [
        {
          "output_type": "execute_result",
          "data": {
            "text/plain": [
              "['a', 'a', 'b', 'b', 'c', 'c', 'a']"
            ]
          },
          "metadata": {},
          "execution_count": 6
        }
      ]
    },
    {
      "cell_type": "code",
      "source": [
        "# Shuffle the distribution to randomize (optional)\n",
        "np.random.seed(42)\n",
        "np.random.shuffle(distribution)\n",
        "\n",
        "distribution"
      ],
      "metadata": {
        "colab": {
          "base_uri": "https://localhost:8080/"
        },
        "id": "cOfc1jAM2_H_",
        "outputId": "cca3e014-44ec-47d2-c05c-b44527472a7e"
      },
      "execution_count": 7,
      "outputs": [
        {
          "output_type": "execute_result",
          "data": {
            "text/plain": [
              "['a', 'a', 'c', 'b', 'c', 'b', 'a']"
            ]
          },
          "metadata": {},
          "execution_count": 7
        }
      ]
    },
    {
      "cell_type": "code",
      "source": [
        "# Fill the NaN values with the calculated distribution\n",
        "df.loc[df['col'].isna(), 'col'] = distribution"
      ],
      "metadata": {
        "id": "Sr60xw0JrgU2"
      },
      "execution_count": 8,
      "outputs": []
    },
    {
      "cell_type": "code",
      "source": [
        "# Display the DataFrame with NaN values filled evenly\n",
        "print(\"\\nDataFrame with NaN values filled evenly:\")\n",
        "print(df)"
      ],
      "metadata": {
        "colab": {
          "base_uri": "https://localhost:8080/"
        },
        "id": "hV6UWJy2rHhT",
        "outputId": "a3a31f69-c438-482e-ebf1-d9f36ab04ea9"
      },
      "execution_count": 9,
      "outputs": [
        {
          "output_type": "stream",
          "name": "stdout",
          "text": [
            "\n",
            "DataFrame with NaN values filled evenly:\n",
            "   col\n",
            "0    a\n",
            "1    b\n",
            "2    a\n",
            "3    c\n",
            "4    a\n",
            "5    c\n",
            "6    a\n",
            "7    b\n",
            "8    c\n",
            "9    b\n",
            "10   a\n",
            "11   c\n",
            "12   b\n",
            "13   c\n",
            "14   b\n",
            "15   a\n"
          ]
        }
      ]
    },
    {
      "cell_type": "markdown",
      "source": [
        "# **As Function**"
      ],
      "metadata": {
        "id": "1Uvl7Yu0ArpZ"
      }
    },
    {
      "cell_type": "code",
      "source": [
        "def fill_na_evenly(df, col_name):\n",
        "  # Identify the non-null values and their frequencies\n",
        "  non_na_values = df[col_name].dropna().value_counts()\n",
        "  total_na = df[col_name].isna().sum()\n",
        "\n",
        "  # Calculate the proportional distribution\n",
        "  distribution = []\n",
        "  for value, count in non_na_values.items():\n",
        "      distribution.extend([value] * (total_na // len(non_na_values)))\n",
        "\n",
        "  # Balance the remaining NaNs, if any\n",
        "  remaining_na = total_na - len(distribution)\n",
        "  for i in range(remaining_na):\n",
        "      distribution.append(non_na_values.index[i % len(non_na_values)])\n",
        "\n",
        "  # Shuffle the distribution to randomize (optional)\n",
        "  np.random.seed(42)\n",
        "  np.random.shuffle(distribution)\n",
        "\n",
        "  # Fill the NaN values with the calculated distribution\n",
        "  df.loc[df[col_name].isna(), col_name] = distribution\n",
        "\n",
        "  # Display the DataFrame with NaN values filled evenly\n",
        "  print(\"\\nDataFrame with NaN values filled evenly:\")\n",
        "  print(df)"
      ],
      "metadata": {
        "id": "X6WaANryt5TM"
      },
      "execution_count": 10,
      "outputs": []
    },
    {
      "cell_type": "code",
      "source": [
        "fill_na_evenly(df, 'col')"
      ],
      "metadata": {
        "colab": {
          "base_uri": "https://localhost:8080/"
        },
        "id": "be9yNRS7V9g3",
        "outputId": "97f51b33-573f-4a79-8a27-7e66500f70a7"
      },
      "execution_count": 11,
      "outputs": [
        {
          "output_type": "stream",
          "name": "stdout",
          "text": [
            "\n",
            "DataFrame with NaN values filled evenly:\n",
            "   col\n",
            "0    a\n",
            "1    b\n",
            "2    a\n",
            "3    c\n",
            "4    a\n",
            "5    c\n",
            "6    a\n",
            "7    b\n",
            "8    c\n",
            "9    b\n",
            "10   a\n",
            "11   c\n",
            "12   b\n",
            "13   c\n",
            "14   b\n",
            "15   a\n"
          ]
        }
      ]
    }
  ]
}